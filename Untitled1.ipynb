{
 "cells": [
  {
   "cell_type": "code",
   "execution_count": 1,
   "metadata": {},
   "outputs": [
    {
     "name": "stdout",
     "output_type": "stream",
     "text": [
      "Cloning into 'LearnPython'...\n",
      "remote: Enumerating objects: 414, done.\u001b[K\n",
      "remote: Total 414 (delta 0), reused 0 (delta 0), pack-reused 414\u001b[K\n",
      "Receiving objects: 100% (414/414), 6.80 MiB | 0 bytes/s, done.\n",
      "Resolving deltas: 100% (131/131), done.\n",
      "Checking out files: 100% (162/162), done.\n"
     ]
    }
   ],
   "source": [
    "!git clone https://github.com/Pure-L0G1C/LearnPython.git"
   ]
  },
  {
   "cell_type": "code",
   "execution_count": 1,
   "metadata": {},
   "outputs": [
    {
     "name": "stdout",
     "output_type": "stream",
     "text": [
      "Initialized empty Git repository in /app/.git/\n"
     ]
    }
   ],
   "source": [
    "!git init"
   ]
  },
  {
   "cell_type": "code",
   "execution_count": 2,
   "metadata": {},
   "outputs": [],
   "source": [
    "!git add .\n"
   ]
  },
  {
   "cell_type": "code",
   "execution_count": 3,
   "metadata": {},
   "outputs": [
    {
     "name": "stdout",
     "output_type": "stream",
     "text": [
      "[master (root-commit) 40a09b6] hola mundo\n",
      " 5 files changed, 5458 insertions(+)\n",
      " create mode 100644 .ipynb_checkpoints/Untitled1-checkpoint.ipynb\n",
      " create mode 100644 .ipynb_checkpoints/inicio-checkpoint.ipynb\n",
      " create mode 160000 LearnPython\n",
      " create mode 100644 Untitled1.ipynb\n",
      " create mode 100644 inicio.ipynb\n"
     ]
    }
   ],
   "source": [
    "!git commit -m 'hola mundo'"
   ]
  },
  {
   "cell_type": "code",
   "execution_count": 4,
   "metadata": {},
   "outputs": [
    {
     "name": "stdout",
     "output_type": "stream",
     "text": [
      "On branch master\n",
      "Changes not staged for commit:\n",
      "  (use \"git add <file>...\" to update what will be committed)\n",
      "  (use \"git checkout -- <file>...\" to discard changes in working directory)\n",
      "  (commit or discard the untracked or modified content in submodules)\n",
      "\n",
      "\t\u001b[31mmodified:   LearnPython\u001b[m (modified content, untracked content)\n",
      "\n",
      "no changes added to commit (use \"git add\" and/or \"git commit -a\")\n"
     ]
    }
   ],
   "source": [
    "!git status"
   ]
  },
  {
   "cell_type": "code",
   "execution_count": 9,
   "metadata": {},
   "outputs": [],
   "source": [
    "!git remote  add master -m  master https://github.com/ferlucio2019/clases"
   ]
  },
  {
   "cell_type": "code",
   "execution_count": 10,
   "metadata": {},
   "outputs": [
    {
     "name": "stdout",
     "output_type": "stream",
     "text": [
      "master\thttps://github.com/ferlucio2019/clases (fetch)\n",
      "master\thttps://github.com/ferlucio2019/clases (push)\n",
      "origin\thttps://github.com/ferlucio2019/clases (fetch)\n",
      "origin\thttps://github.com/ferlucio2019/clases (push)\n"
     ]
    }
   ],
   "source": [
    "!git remote -v"
   ]
  },
  {
   "cell_type": "code",
   "execution_count": null,
   "metadata": {},
   "outputs": [
    {
     "name": "stdout",
     "output_type": "stream",
     "text": [
      "Pushing to https://github.com/ferlucio2019/clases\n",
      "Username for 'https://github.com': "
     ]
    }
   ],
   "source": [
    "!git push -v origin master"
   ]
  },
  {
   "cell_type": "code",
   "execution_count": null,
   "metadata": {},
   "outputs": [],
   "source": [
    "!git config"
   ]
  }
 ],
 "metadata": {
  "kernelspec": {
   "display_name": "Python 3",
   "language": "python",
   "name": "python3"
  },
  "language_info": {
   "codemirror_mode": {
    "name": "ipython",
    "version": 3
   },
   "file_extension": ".py",
   "mimetype": "text/x-python",
   "name": "python",
   "nbconvert_exporter": "python",
   "pygments_lexer": "ipython3",
   "version": "3.7.4"
  }
 },
 "nbformat": 4,
 "nbformat_minor": 2
}
